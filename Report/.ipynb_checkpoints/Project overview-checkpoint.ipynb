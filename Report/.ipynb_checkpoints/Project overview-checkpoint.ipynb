{
 "cells": [
  {
   "cell_type": "markdown",
   "id": "8e3e1ba8",
   "metadata": {},
   "source": [
    "Project Overview\n",
    "\n",
    "This project focuses on analyzing the sales performance using python  with the help of pandas,numpy,and seaborn.This project provides insights into sales trends, top products, and product performance using forcasting techniques\n",
    "\n",
    "\n",
    "Key Insights\n",
    "\n",
    "-Top performing products ,category and sub category were identified\n",
    "-Regional sales variations analyzed\n",
    "-Monthly sales trends analyzed\n",
    "-Profitabilty insights were analyzed from sales ad profit analysis\n",
    "-Forcasting models (ARIMA AND Prophet) built to predict future product  performance\n",
    "  \n",
    "  \n",
    "  \n",
    "  \n",
    "Visualizations\n",
    "\n",
    "-Sales by category and subcategory\n",
    "-Top 10 product by sales\n",
    "-Regional and segment vise analysis\n",
    "-Monthly sales trend\n",
    "-Forecasting future sales\n"
   ]
  }
 ],
 "metadata": {
  "kernelspec": {
   "display_name": "Python 3 (ipykernel)",
   "language": "python",
   "name": "python3"
  },
  "language_info": {
   "codemirror_mode": {
    "name": "ipython",
    "version": 3
   },
   "file_extension": ".py",
   "mimetype": "text/x-python",
   "name": "python",
   "nbconvert_exporter": "python",
   "pygments_lexer": "ipython3",
   "version": "3.10.9"
  }
 },
 "nbformat": 4,
 "nbformat_minor": 5
}
